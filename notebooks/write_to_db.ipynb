{
 "cells": [
  {
   "cell_type": "code",
   "execution_count": 1,
   "id": "520a0367",
   "metadata": {},
   "outputs": [],
   "source": [
    "# write_to_db.py\n",
    "\n",
    "import pandas as pd\n",
    "import sqlite3\n",
    "from sqlalchemy import create_engine, text\n",
    "from sqlalchemy.orm import Session\n",
    "\n",
    "#  1. Читаем учетные данные из SQLite \n",
    "sqlite_path = r\"C:\\Users\\malin\\Downloads\\creds.db\"\n",
    "conn = sqlite3.connect(sqlite_path)\n",
    "cursor = conn.cursor()\n",
    "cursor.execute(\"SELECT url, port, user, pass FROM access LIMIT 1\")\n",
    "db_url, db_port, db_user, db_password = cursor.fetchone()\n",
    "conn.close()\n",
    "\n",
    "# 2. Подключаемся к PostgreSQL \n",
    "db_name = \"homeworks\"\n",
    "engine = create_engine(\n",
    "    f\"postgresql+psycopg2://{db_user}:{db_password}@{db_url}:{db_port}/{db_name}\"\n",
    ")\n"
   ]
  },
  {
   "cell_type": "code",
   "execution_count": 2,
   "id": "2b8d7daf",
   "metadata": {},
   "outputs": [
    {
     "name": "stdout",
     "output_type": "stream",
     "text": [
      "Данные успешно загружены в таблицу gabdrakhmanova\n"
     ]
    }
   ],
   "source": [
    "\n",
    "# 3. Загружаем свой датасет \n",
    "df = pd.read_parquet(r\"C:\\Users\\malin\\my_project\\my_project.parquet\")\n",
    "df = df.head(100)  # максимум 100 строк\n",
    "df.columns = [col.lower() for col in df.columns]\n",
    "\n",
    "# 4. Записываем данные в таблицу с вашей фамилией \n",
    "my_table_name = \"gabdrakhmanova\"  \n",
    "df.to_sql(\n",
    "    name=my_table_name,\n",
    "    con=engine,\n",
    "    schema=\"public\",\n",
    "    if_exists=\"replace\",\n",
    "    index=False\n",
    ")\n",
    "\n",
    "#  5. Добавляем комментарий на таблицу \n",
    "with engine.begin() as conn:\n",
    "    conn.execute(\n",
    "    text(f\"COMMENT ON TABLE public.{my_table_name} IS 'Таблица с анкетами и выборкой смартфон-зависимости';\")\n",
    ")\n",
    "\n",
    "\n",
    "print(f\"Данные успешно загружены в таблицу {my_table_name}\")"
   ]
  },
  {
   "cell_type": "code",
   "execution_count": 3,
   "id": "308eb3bc",
   "metadata": {},
   "outputs": [
    {
     "name": "stdout",
     "output_type": "stream",
     "text": [
      "\n",
      "Первые 5 строк таблицы:\n",
      "(2208, None, 23, 2, 1, None, 1, 2, 'тат', True, 0, 3, None, 1, '1, 1 г', False, '[0]', '0', 'nan', 0, 'nan', True, False, '1', 2, 1, 'nan', 'nan', 'nan', 'nan', '4,5,9', True, 'AA2790', 21, 'V1058', 1, 0, 1, 1, 1, 1, 1, 1, None, 2, 2, 1, 2, 0, 1, 1)\n",
      "(2197, '14.09.2000', 21, 2, 1, None, 3, 19, 'остальные', False, -9, 2, None, 1, '0', False, '[0]', '0', 'nan', 1, 'nan', False, True, '0', 2, 1, '[2]', 'кашель', 'nan', 'nan', '[10]', True, 'AA3194', 50, 'V1059', 1, 0, 0, 2, 2, 0, 2, 2, 2, 2, 1, 0, 1, 1, 1, 1)\n",
      "(2259, '08.09.2000', 21, 2, 1, None, 3, 19, 'тат', True, 2, 2, None, 1, '1', False, '[0]', '2', 'nan', 0, 'nan', True, None, 'nan', 2, 1, '[2,5]', 'боли в голове, сухой кашель', '1', 'nan', '[10]', True, 'AB9398', 26, 'V1060', 0, 0, 1, 2, 2, 0, 0, 2, 1, 2, 2, 1, 2, 2, 2, 1)\n",
      "(2568, '10/10/2000', 21, 2, 3, None, 3, None, 'тат', False, None, 2, None, 1, '1, до 1г', False, '[0]', '0', 'nan', 0, 'nan', True, False, '0', 2, 1, '[2]', 'сильные боли в голове', 'nan', 'nan', 'nan', True, 'AC1584', 25, 'V14', 2, 0, 2, 2, 2, 0, 0, 2, 1, 2, 1, 2, 2, 2, 1, 1)\n",
      "(2540, '23.04.2000', 21, 2, 1, None, 3, 18, 'тат', True, 1, 2, None, 1, 'да, до 2 х лет', None, '[6]', '0', 'nan', None, 'Прогулки, растяжка', False, False, '7', 2, 1, '[3]', 'nan', '3', 'nan', 'nan', True, 'AG6225', 16, 'V1061', 0, 0, 0, 2, 2, 0, 0, 2, 2, 2, 1, 1, 2, 1, 1, 1)\n"
     ]
    }
   ],
   "source": [
    "#  6. Проверяем первые 5 строк таблицы \n",
    "with Session(engine) as session:\n",
    "    result = session.execute(text(f\"SELECT * FROM public.{my_table_name} LIMIT 5\"))\n",
    "    rows = result.fetchall()\n",
    "    print(\"\\nПервые 5 строк таблицы:\")\n",
    "    for row in rows:\n",
    "        print(row)\n"
   ]
  }
 ],
 "metadata": {
  "kernelspec": {
   "display_name": "my_env",
   "language": "python",
   "name": "python3"
  },
  "language_info": {
   "codemirror_mode": {
    "name": "ipython",
    "version": 3
   },
   "file_extension": ".py",
   "mimetype": "text/x-python",
   "name": "python",
   "nbconvert_exporter": "python",
   "pygments_lexer": "ipython3",
   "version": "3.13.7"
  }
 },
 "nbformat": 4,
 "nbformat_minor": 5
}
